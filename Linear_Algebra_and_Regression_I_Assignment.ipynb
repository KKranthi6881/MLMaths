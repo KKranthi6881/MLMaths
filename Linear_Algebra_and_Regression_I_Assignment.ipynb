{
  "nbformat": 4,
  "nbformat_minor": 0,
  "metadata": {
    "colab": {
      "provenance": [],
      "authorship_tag": "ABX9TyNZ4czwj1u32DjfuBMFF/j6",
      "include_colab_link": true
    },
    "kernelspec": {
      "name": "python3",
      "display_name": "Python 3"
    },
    "language_info": {
      "name": "python"
    }
  },
  "cells": [
    {
      "cell_type": "markdown",
      "metadata": {
        "id": "view-in-github",
        "colab_type": "text"
      },
      "source": [
        "<a href=\"https://colab.research.google.com/github/KKranthi6881/MLMaths/blob/main/Linear_Algebra_and_Regression_I_Assignment.ipynb\" target=\"_parent\"><img src=\"https://colab.research.google.com/assets/colab-badge.svg\" alt=\"Open In Colab\"/></a>"
      ]
    },
    {
      "cell_type": "markdown",
      "source": [
        "**Q1) Write a Python function that takes a square matrix A as input and returns its eigenvalues and eigenvectors.**"
      ],
      "metadata": {
        "id": "kcSEhsnEMrom"
      }
    },
    {
      "cell_type": "markdown",
      "source": [
        "**# Option1: Generate 0's and replace with some formula values**"
      ],
      "metadata": {
        "id": "T_dAsCn5UHtD"
      }
    },
    {
      "cell_type": "code",
      "source": [
        "import numpy as np  # Importing the libraries\n",
        "\n",
        "# option1: Generate 0's and replace with some formula values\n",
        "def dynamic_sqr_matrix(size):\n",
        "    matrix = np.zeros((size,size))\n",
        "\n",
        "    for i in range(size):\n",
        "        for j in range(size):\n",
        "            matrix[i, j] = i * size + j + 1\n",
        "    matrix2 = np.mat(matrix)\n",
        "\n",
        "\n",
        "    eigenvalue, eigenvector = np.linalg.eig(matrix2)\n",
        "    return  eigenvalue, eigenvector,matrix2\n",
        "\n",
        "\n",
        "# Return the EigenVector and EigonValues\n",
        "\n",
        "size = 2\n",
        "return_eigenvalue,return_eigenvector,matrix2 = dynamic_sqr_matrix(size)\n",
        "\n",
        "print(f\"Size of the Matrix is: {size} X {size}\",matrix2)\n",
        "print(\"return_eigenvector:\",return_eigenvector)\n",
        "\n",
        "print(\"return_eigenvalue:\",return_eigenvalue)\n"
      ],
      "metadata": {
        "id": "IcBjkNeQM04d",
        "colab": {
          "base_uri": "https://localhost:8080/"
        },
        "outputId": "f44e9607-cffb-4d75-88df-4afe1acfa523"
      },
      "execution_count": null,
      "outputs": [
        {
          "output_type": "stream",
          "name": "stdout",
          "text": [
            "Size of the Matrix is: 2 X 2 [[1. 2.]\n",
            " [3. 4.]]\n",
            "return_eigenvector: [[-0.82456484 -0.41597356]\n",
            " [ 0.56576746 -0.90937671]]\n",
            "return_eigenvalue: [-0.37228132  5.37228132]\n"
          ]
        }
      ]
    },
    {
      "cell_type": "markdown",
      "source": [
        "**# Option 2: Fixed matrix values**"
      ],
      "metadata": {
        "id": "lwkjfDpwUEW7"
      }
    },
    {
      "cell_type": "code",
      "source": [
        "import numpy as np\n",
        "import matplotlib.pyplot as plt\n",
        "\n",
        "# Option 2: Fixed matrix values\n",
        "def dynamic_sqr_matrix():\n",
        "    matrix = np.array([[2, 0], [0, 2]])\n",
        "\n",
        "    eigenvalue, eigenvector = np.linalg.eig(matrix)\n",
        "    return eigenvalue, eigenvector, matrix\n",
        "\n",
        "# Return the EigenVector and EigenValues\n",
        "size = 2\n",
        "return_eigenvalue, return_eigenvector, matrix = dynamic_sqr_matrix()\n",
        "\n",
        "print(f\"Size of the Matrix is: {size} X {size}\\n\", matrix)\n",
        "print(\"return_eigenvector:\", return_eigenvector)\n",
        "print(\"return_eigenvalue:\", return_eigenvalue)\n",
        "\n",
        "# Extract eigenvectors\n",
        "v1 = return_eigenvector[:, 0]  # First eigenvector\n",
        "v2 = return_eigenvector[:, 1]  # Second eigenvector\n",
        "\n",
        "# Plot eigenvectors\n",
        "plt.figure(figsize=(10, 10))\n",
        "plt.quiver(0, 0, v1[0], v1[1], angles='xy', scale_units='xy', scale=1, color='r', label='Eigenvector 1')\n",
        "plt.quiver(0, 0, v2[0], v2[1], angles='xy', scale_units='xy', scale=1, color='b', label='Eigenvector 2')\n",
        "\n",
        "# Plot eigenvalues\n",
        "plt.scatter(return_eigenvalue.real, return_eigenvalue.imag, color='g', marker='o', s=100, label='Eigenvalues')\n",
        "\n",
        "# Set plot properties\n",
        "plt.axhline(0, color='black', linewidth=0.5)\n",
        "plt.axvline(0, color='black', linewidth=0.5)\n",
        "plt.grid(color='gray', linestyle='--', linewidth=0.5)\n",
        "plt.gca().set_aspect('equal', adjustable='box')\n",
        "plt.legend()\n",
        "plt.title('Eigenvalues and Eigenvectors',y = 1.5)\n",
        "plt.subplots_adjust(top=0.85)\n",
        "plt.xlabel('Real')\n",
        "plt.ylabel('Imaginary')\n",
        "\n",
        "# Show the plot\n",
        "plt.show()\n"
      ],
      "metadata": {
        "colab": {
          "base_uri": "https://localhost:8080/",
          "height": 267
        },
        "id": "PRnNHEzDgzV-",
        "outputId": "1d2806b9-1271-4b10-c4ea-c8e6132fa074"
      },
      "execution_count": null,
      "outputs": [
        {
          "output_type": "stream",
          "name": "stdout",
          "text": [
            "Size of the Matrix is: 2 X 2\n",
            " [[2 0]\n",
            " [0 2]]\n",
            "return_eigenvector: [[1. 0.]\n",
            " [0. 1.]]\n",
            "return_eigenvalue: [2. 2.]\n"
          ]
        },
        {
          "output_type": "display_data",
          "data": {
            "text/plain": [
              "<Figure size 1000x1000 with 1 Axes>"
            ],
            "image/png": "[encoded data removed]"
          },
          "metadata": {}
        }
      ]
    },
    {
      "cell_type": "markdown",
      "source": [
        "**# Option3: Random generated matrix values**"
      ],
      "metadata": {
        "id": "re-uJfu2UOYc"
      }
    },
    {
      "cell_type": "code",
      "source": [
        "import matplotlib.pyplot as plt\n",
        "\n",
        "# option3: Random generated matrix values\n",
        "def random_generate_sqr_matrix(size):\n",
        "    matrx = np.random.rand(size,size)\n",
        "    eigenvalue,eigenvector = np.linalg.eig(matrx)\n",
        "    return eigenvalue,eigenvector\n",
        "\n",
        "return_eigenvalue,return_eigenvector = random_generate_sqr_matrix(3)\n",
        "\n",
        "print(\"return_eigenvector:\",return_eigenvector)\n",
        "\n",
        "print(\"return_eigenvalue:\",return_eigenvalue)\n",
        "\n",
        "# Extract eigenvectors\n",
        "v1 = return_eigenvector[:, 0]  # First eigenvector\n",
        "v2 = return_eigenvector[:, 1]  # Second eigenvector\n",
        "\n",
        "# Plot eigenvectors\n",
        "plt.figure(figsize=(10, 10))\n",
        "plt.quiver(0, 0, v1[0], v1[1], angles='xy', scale_units='xy', scale=1, color='r', label='Eigenvector 1')\n",
        "plt.quiver(0, 0, v2[0], v2[1], angles='xy', scale_units='xy', scale=1, color='b', label='Eigenvector 2')\n",
        "\n",
        "# Plot eigenvalues\n",
        "plt.scatter(return_eigenvalue.real, return_eigenvalue.imag, color='g', marker='o', s=100, label='Eigenvalues')\n",
        "\n",
        "# Set plot properties\n",
        "plt.axhline(0, color='black',linewidth=0.5)\n",
        "plt.axvline(0, color='black',linewidth=0.5)\n",
        "plt.grid(color = 'gray', linestyle = '--', linewidth = 0.5)\n",
        "plt.gca().set_aspect('equal', adjustable='box')\n",
        "plt.legend()\n",
        "plt.title('Eigenvalues and Eigenvectors')\n",
        "plt.xlabel('Real')\n",
        "plt.ylabel('Imaginary')\n",
        "\n",
        "# Show the plot\n",
        "plt.show()"
      ],
      "metadata": {
        "id": "7q-U_S5NRsDJ",
        "colab": {
          "base_uri": "https://localhost:8080/",
          "height": 225
        },
        "outputId": "9e00a033-c9e1-4c54-fbc5-3de0ff013457"
      },
      "execution_count": null,
      "outputs": [
        {
          "output_type": "stream",
          "name": "stdout",
          "text": [
            "return_eigenvector: [[-0.70340697 -0.57442052 -0.10818096]\n",
            " [-0.43776184  0.81823954 -0.73987619]\n",
            " [-0.559985   -0.02291556  0.66398803]]\n",
            "return_eigenvalue: [ 1.62754652  0.37568306 -0.01354775]\n"
          ]
        },
        {
          "output_type": "display_data",
          "data": {
            "text/plain": [
              "<Figure size 1000x1000 with 1 Axes>"
            ],
            "image/png": "[encoded data removed]"
          },
          "metadata": {}
        }
      ]
    },
    {
      "cell_type": "markdown",
      "source": [
        "**Q2) Write a program which takes 2 arrays and returns the dot product without using NumPy**\n",
        "\n"
      ],
      "metadata": {
        "id": "pwgRYRdeUXCt"
      }
    },
    {
      "cell_type": "code",
      "source": [
        "def dot_Prod_2_arrays (M1,M2):\n",
        "    z = []\n",
        "    for x,y in zip(M1,M2):\n",
        "        z.append(x * y)\n",
        "    print(sum(z))\n",
        "\n",
        "M1 = [1,2,3,4]\n",
        "M2 = [5,6,7,8]\n",
        "\n",
        "print(dot_Prod_2_arrays (M1,M2))\n",
        "\n"
      ],
      "metadata": {
        "colab": {
          "base_uri": "https://localhost:8080/"
        },
        "id": "MKrzJBypUa-a",
        "outputId": "4b7a0079-84c4-45e8-e9b9-172b03c18571"
      },
      "execution_count": null,
      "outputs": [
        {
          "output_type": "stream",
          "name": "stdout",
          "text": [
            "70\n",
            "None\n"
          ]
        }
      ]
    },
    {
      "cell_type": "markdown",
      "source": [
        "** Write a python function to calculate the determinant of a n by n matrix without using python package **\n"
      ],
      "metadata": {
        "id": "TN1vSfU69EHP"
      }
    },
    {
      "cell_type": "code",
      "source": [
        "def determinant(matrix):\n",
        "    # Check if the matrix is square\n",
        "    rows, cols = len(matrix), len(matrix[0])\n",
        "    if rows != cols:\n",
        "        raise ValueError(\"Matrix must be square for determinant calculation.\")\n",
        "\n",
        "    # Base case: for a 1x1 matrix, the determinant is the single element\n",
        "    if rows == 1:\n",
        "        return matrix[0][0]\n",
        "\n",
        "    # Recursive case: calculate the determinant using expansion by minors\n",
        "    det = 0\n",
        "    for j in range(cols):\n",
        "        sign = (-1) ** j\n",
        "        minor_matrix = [row[:j] + row[j+1:] for row in matrix[1:]]\n",
        "        det += sign * matrix[0][j] * determinant(minor_matrix)\n",
        "\n",
        "    return det\n",
        "\n",
        "# Example usage:\n",
        "matrix = [\n",
        "    [4, 7, 2,6],\n",
        "    [9, 2, 1,8],\n",
        "    [3, 5, 6,9],\n",
        "    [2, 5, 4,9]\n",
        "\n",
        "]\n",
        "\n",
        "det_result = determinant(matrix)\n",
        "print(\"Determinant:\", det_result)\n",
        "import numpy as np\n",
        "determinant1 = np.linalg.det(matrix)\n",
        "\n",
        "print(f\"The determinant of the matrix is: {determinant1}\")\n"
      ],
      "metadata": {
        "id": "idoDjvqlZ8Go",
        "colab": {
          "base_uri": "https://localhost:8080/"
        },
        "outputId": "f63dab66-e658-4452-cb47-c6a340e22587"
      },
      "execution_count": 7,
      "outputs": [
        {
          "output_type": "stream",
          "name": "stdout",
          "text": [
            "[[2, 1, 8], [5, 6, 9], [5, 4, 9]]\n",
            "0\n",
            "[[6, 9], [4, 9]]\n",
            "0\n",
            "[[9]]\n",
            "0\n",
            "[[4]]\n",
            "1\n",
            "[[5, 9], [5, 9]]\n",
            "1\n",
            "[[9]]\n",
            "0\n",
            "[[5]]\n",
            "1\n",
            "[[5, 6], [5, 4]]\n",
            "2\n",
            "[[4]]\n",
            "0\n",
            "[[5]]\n",
            "1\n",
            "[[9, 1, 8], [3, 6, 9], [2, 4, 9]]\n",
            "1\n",
            "[[6, 9], [4, 9]]\n",
            "0\n",
            "[[9]]\n",
            "0\n",
            "[[4]]\n",
            "1\n",
            "[[3, 9], [2, 9]]\n",
            "1\n",
            "[[9]]\n",
            "0\n",
            "[[2]]\n",
            "1\n",
            "[[3, 6], [2, 4]]\n",
            "2\n",
            "[[4]]\n",
            "0\n",
            "[[2]]\n",
            "1\n",
            "[[9, 2, 8], [3, 5, 9], [2, 5, 9]]\n",
            "2\n",
            "[[5, 9], [5, 9]]\n",
            "0\n",
            "[[9]]\n",
            "0\n",
            "[[5]]\n",
            "1\n",
            "[[3, 9], [2, 9]]\n",
            "1\n",
            "[[9]]\n",
            "0\n",
            "[[2]]\n",
            "1\n",
            "[[3, 5], [2, 5]]\n",
            "2\n",
            "[[5]]\n",
            "0\n",
            "[[2]]\n",
            "1\n",
            "[[9, 2, 1], [3, 5, 6], [2, 5, 4]]\n",
            "3\n",
            "[[5, 6], [5, 4]]\n",
            "0\n",
            "[[4]]\n",
            "0\n",
            "[[5]]\n",
            "1\n",
            "[[3, 6], [2, 4]]\n",
            "1\n",
            "[[4]]\n",
            "0\n",
            "[[2]]\n",
            "1\n",
            "[[3, 5], [2, 5]]\n",
            "2\n",
            "[[5]]\n",
            "0\n",
            "[[2]]\n",
            "1\n",
            "Determinant: -693\n",
            "The determinant of the matrix is: -693.0000000000006\n"
          ]
        }
      ]
    }
  ]
}